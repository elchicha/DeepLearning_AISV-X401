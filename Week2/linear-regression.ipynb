{
 "cells": [
  {
   "cell_type": "code",
   "execution_count": 11,
   "id": "fcfb4b7b",
   "metadata": {},
   "outputs": [],
   "source": [
    "import numpy as np\n",
    "import matplotlib.pyplot as plt"
   ]
  },
  {
   "cell_type": "code",
   "execution_count": 12,
   "id": "20618d41",
   "metadata": {},
   "outputs": [],
   "source": [
    "# Config\n",
    "DISP_WIDTH = 30"
   ]
  },
  {
   "cell_type": "code",
   "execution_count": 13,
   "id": "cab99411",
   "metadata": {},
   "outputs": [
    {
     "name": "stdout",
     "output_type": "stream",
     "text": [
      "******************************\n",
      "     LOADING DATASET ...      \n",
      "******************************\n"
     ]
    }
   ],
   "source": [
    "# Data: Study hours and corresponding exam scores\n",
    "# Print the optimal parameters\n",
    "print(\"*\" * DISP_WIDTH )\n",
    "print(\"LOADING DATASET ...\".center(DISP_WIDTH))\n",
    "print(\"*\" *DISP_WIDTH)"
   ]
  },
  {
   "cell_type": "code",
   "execution_count": null,
   "id": "de7d108f",
   "metadata": {},
   "outputs": [],
   "source": []
  }
 ],
 "metadata": {
  "kernelspec": {
   "display_name": ".venv",
   "language": "python",
   "name": "python3"
  },
  "language_info": {
   "codemirror_mode": {
    "name": "ipython",
    "version": 3
   },
   "file_extension": ".py",
   "mimetype": "text/x-python",
   "name": "python",
   "nbconvert_exporter": "python",
   "pygments_lexer": "ipython3",
   "version": "3.13.2"
  }
 },
 "nbformat": 4,
 "nbformat_minor": 5
}

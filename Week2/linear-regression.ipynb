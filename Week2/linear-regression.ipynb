{
 "cells": [
  {
   "cell_type": "markdown",
   "id": "48877b50",
   "metadata": {},
   "source": [
    "## 📘 Summary: Gradient Descent for Linear Regression\n",
    "\n",
    "This notebook implements **gradient descent** to optimize the parameters (`theta`) of a **linear regression** model by minimizing a cost function.\n",
    "\n",
    "---\n",
    "\n",
    "### 🔢 Objective\n",
    "\n",
    "We aim to find the best-fitting line (or hyperplane) by minimizing the **cost function**, which measures how far the model's predictions are from the actual target values.\n",
    "\n",
    "---\n",
    "\n",
    "### 💡 Cost Function\n",
    "\n",
    "The cost function used is **Mean Squared Error (MSE)**:\n",
    "\n"
   ]
  },
  {
   "cell_type": "markdown",
   "id": "91c7c560",
   "metadata": {},
   "source": [
    "\n",
    "This function:\n",
    "- Computes the model's predictions.\n",
    "- Calculates the squared differences from the actual values.\n",
    "- Averages them to get the cost (error).\n",
    "- The `1/2` factor simplifies gradient calculations.\n",
    "\n",
    "---\n",
    "\n",
    "### 📥 Key Variables\n",
    "\n",
    "- `X`: Input features (shape: m × n)\n",
    "- `X_bias`: `X` with a column of ones for the intercept term (`theta_0`)\n",
    "- `Y`: Target/output values (shape: m × 1)\n",
    "- `theta`: Model parameters (shape: (n+1) × 1)\n",
    "- `alpha`: Learning rate — controls how big each update step is\n",
    "- `iterations`: Number of steps (updates) for gradient descent\n",
    "- `cost_history`: List that tracks the cost at each iteration\n",
    "\n",
    "---\n",
    "\n",
    "### 🚀 Gradient Descent\n",
    "\n",
    "At each iteration, the algorithm:\n",
    "1. Computes predictions using current `theta`\n",
    "2. Calculates the error\n",
    "3. Computes the gradient (direction to move)\n",
    "4. Updates `theta` to reduce the cost\n",
    "5. Stores the cost for visualization/convergence check\n",
    "\n",
    "The process repeats for the specified number of iterations.\n",
    "\n",
    "---\n"
   ]
  },
  {
   "cell_type": "code",
   "execution_count": null,
   "id": "a5c6d5a0",
   "metadata": {},
   "outputs": [],
   "source": []
  },
  {
   "cell_type": "code",
   "execution_count": 2,
   "id": "fcfb4b7b",
   "metadata": {},
   "outputs": [],
   "source": [
    "import numpy as np\n",
    "import matplotlib.pyplot as plt"
   ]
  },
  {
   "cell_type": "code",
   "execution_count": 3,
   "id": "20618d41",
   "metadata": {},
   "outputs": [],
   "source": [
    "# Config\n",
    "DISP_WIDTH = 30"
   ]
  },
  {
   "cell_type": "code",
   "execution_count": 4,
   "id": "cab99411",
   "metadata": {},
   "outputs": [
    {
     "name": "stdout",
     "output_type": "stream",
     "text": [
      "******************************\n",
      "     LOADING DATASET ...      \n",
      "******************************\n"
     ]
    }
   ],
   "source": [
    "# Data: Study hours and corresponding exam scores\n",
    "# Print the optimal parameters\n",
    "print(\"*\" * DISP_WIDTH )\n",
    "print(\"LOADING DATASET ...\".center(DISP_WIDTH))\n",
    "print(\"*\" *DISP_WIDTH)"
   ]
  },
  {
   "cell_type": "code",
   "execution_count": 5,
   "id": "de7d108f",
   "metadata": {},
   "outputs": [],
   "source": [
    "X = np.array([1,2,3,4,5,6,7,8,9,10])\n",
    "Y = np.array([50,55,60,65,70,75,80,85,90,95])"
   ]
  },
  {
   "cell_type": "code",
   "execution_count": null,
   "id": "a75be85d",
   "metadata": {},
   "outputs": [
    {
     "name": "stdout",
     "output_type": "stream",
     "text": [
      "10\n"
     ]
    }
   ],
   "source": [
    "m = len(Y)"
   ]
  },
  {
   "cell_type": "code",
   "execution_count": null,
   "id": "5276724d",
   "metadata": {},
   "outputs": [],
   "source": [
    "X_bias = np.c_[np.ones(m), X]"
   ]
  },
  {
   "cell_type": "code",
   "execution_count": null,
   "id": "1766ef0d",
   "metadata": {},
   "outputs": [],
   "source": [
    "theta = np.zeros(2)"
   ]
  },
  {
   "cell_type": "code",
   "execution_count": null,
   "id": "8490a304",
   "metadata": {},
   "outputs": [],
   "source": [
    "alpha = 0.01\n",
    "iterations = 1000"
   ]
  },
  {
   "cell_type": "code",
   "execution_count": 10,
   "id": "37f81027",
   "metadata": {},
   "outputs": [],
   "source": [
    "# Cost function (Mean Squared Error)\n",
    "def compute_cost(X_bias, Y, theta):\n",
    "    predictions = X_bias.dot(theta)\n",
    "    errors = predictions - Y\n",
    "    cost = (1 / (2 * m)) * np.dot(errors.T, errors)\n",
    "    return cost"
   ]
  },
  {
   "cell_type": "code",
   "execution_count": 11,
   "id": "c1b8008d",
   "metadata": {},
   "outputs": [],
   "source": [
    "# Gradient descent algorithm\n",
    "def gradient_descent(X_bias, Y, theta, alpha, iterations):\n",
    "    cost_history = []\n",
    "    "
   ]
  },
  {
   "cell_type": "code",
   "execution_count": null,
   "id": "a7782ff8",
   "metadata": {},
   "outputs": [],
   "source": []
  }
 ],
 "metadata": {
  "kernelspec": {
   "display_name": ".venv",
   "language": "python",
   "name": "python3"
  },
  "language_info": {
   "codemirror_mode": {
    "name": "ipython",
    "version": 3
   },
   "file_extension": ".py",
   "mimetype": "text/x-python",
   "name": "python",
   "nbconvert_exporter": "python",
   "pygments_lexer": "ipython3",
   "version": "3.13.2"
  }
 },
 "nbformat": 4,
 "nbformat_minor": 5
}
